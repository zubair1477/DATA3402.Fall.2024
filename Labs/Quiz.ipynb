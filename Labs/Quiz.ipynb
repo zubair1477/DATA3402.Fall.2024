{
 "cells": [
  {
   "cell_type": "code",
   "execution_count": null,
   "id": "13ed939d-f915-48ae-90c1-f0e25a34cf90",
   "metadata": {},
   "outputs": [],
   "source": [
    "def create_new_args(args):\n",
    "    max_len = max(map(len,\n",
    "                      filter(lambda x: isinstance(x,list),\n",
    "                             args)))\n",
    "    new_args = list()\n",
    "\n",
    "    for a in args:\n",
    "        if not isinstance(a,list):\n",
    "            a0 = [a] * max_len:\n",
    "        elif len(a) != max_len\n",
    "            print('Error: all list arguments must have same length.')\n",
    "            return\n",
    "        else:\n",
    "            a0 = a\n",
    "        new_args.append(a)\n",
    "    return  new_args\n",
    "    "
   ]
  },
  {
   "cell_type": "code",
   "execution_count": null,
   "id": "61b77550-ed45-4a7b-8e20-a293c14583f6",
   "metadata": {},
   "outputs": [],
   "source": []
  }
 ],
 "metadata": {
  "kernelspec": {
   "display_name": "Python 3 (ipykernel)",
   "language": "python",
   "name": "python3"
  },
  "language_info": {
   "codemirror_mode": {
    "name": "ipython",
    "version": 3
   },
   "file_extension": ".py",
   "mimetype": "text/x-python",
   "name": "python",
   "nbconvert_exporter": "python",
   "pygments_lexer": "ipython3",
   "version": "3.11.7"
  }
 },
 "nbformat": 4,
 "nbformat_minor": 5
}
