{
 "cells": [
  {
   "cell_type": "markdown",
   "metadata": {},
   "source": [
    "## Lab 2- Tic Tac Toe\n",
    "\n",
    "In this lab your will build a n x n Tic Tac Toe game. As you do the exercises, make sure your solutions work for any size Tic Tac Toe game. "
   ]
  },
  {
   "cell_type": "markdown",
   "metadata": {},
   "source": [
    "*Exercise 1:* Write a function that creates an n by n matrix (of list of lists) which will represent the state of a Tie Tac Toe game. Let 0, 1, and 2 represent empty, \"X\", and \"O\", respectively.\n"
   ]
  },
  {
   "cell_type": "code",
   "execution_count": 10,
   "metadata": {},
   "outputs": [],
   "source": [
    "# Write you solution here\n",
    "\n",
    "empty = 0\n",
    "X = 1\n",
    "O = 2\n",
    "\n",
    "def create_board(n,empty):\n",
    "    game_board = [] \n",
    "    \n",
    "    if n < 2:\n",
    "        print('Error: Board must be at least 2 x 2')\n",
    "    else:\n",
    "        for i in range(n):\n",
    "            row = [] #creates an empty list\n",
    "            for i in range(n):\n",
    "                row.append(empty) #fills list with empty values\n",
    "            \n",
    "            game_board.append(row) #adds list to game board list\n",
    "\n",
    "    return game_board\n",
    "        \n",
    "\n"
   ]
  },
  {
   "cell_type": "code",
   "execution_count": 11,
   "metadata": {},
   "outputs": [
    {
     "data": {
      "text/plain": [
       "[[0, 0, 0], [0, 0, 0], [0, 0, 0]]"
      ]
     },
     "execution_count": 11,
     "metadata": {},
     "output_type": "execute_result"
    }
   ],
   "source": [
    "# Test your solution here\n",
    "\n",
    "board = create_board(3,empty)\n",
    "board"
   ]
  },
  {
   "cell_type": "markdown",
   "metadata": {},
   "source": [
    "*Exercise 2:* Write a function that takes 2 integers `n` and `m` as input and draws a `n` by `m` game board. For example the following is a 3x3 board:\n",
    "```\n",
    "   --- --- --- \n",
    "  |   |   |   | \n",
    "   --- --- ---  \n",
    "  |   |   |   | \n",
    "   --- --- ---  \n",
    "  |   |   |   | \n",
    "   --- --- --- \n",
    "   ```"
   ]
  },
  {
   "cell_type": "code",
   "execution_count": 12,
   "metadata": {},
   "outputs": [],
   "source": [
    "# Write you solution here\n",
    "def draw_board(n,m):\n",
    "    if n < 2 or m < 2:\n",
    "        print('Error: Board must be at least 2 x 2')\n",
    "    else:\n",
    "        hor_line = ' ---' * m        #horizontal line, by number of columns\n",
    "        ver_line = '|   ' * (n + 1)  #vertical lines for border\n",
    "    for i in range(n):\n",
    "        print(hor_line)\n",
    "        print(ver_line)\n",
    "    print(hor_line)"
   ]
  },
  {
   "cell_type": "code",
   "execution_count": 13,
   "metadata": {},
   "outputs": [
    {
     "name": "stdout",
     "output_type": "stream",
     "text": [
      " --- --- ---\n",
      "|   |   |   |   \n",
      " --- --- ---\n",
      "|   |   |   |   \n",
      " --- --- ---\n",
      "|   |   |   |   \n",
      " --- --- ---\n"
     ]
    }
   ],
   "source": [
    "# Test your solution here\n",
    "game_board = draw_board(3,3)\n",
    "game_board"
   ]
  },
  {
   "cell_type": "markdown",
   "metadata": {},
   "source": [
    "*Exercise 3:* Modify exercise 2, so that it takes a matrix of the form from exercise 1 and draws a tic-tac-tie board with \"X\"s and \"O\"s.  "
   ]
  },
  {
   "cell_type": "code",
   "execution_count": 14,
   "metadata": {},
   "outputs": [],
   "source": [
    "# Write you solution here\n",
    "def draw_board1(game_board):\n",
    "    n = len(game_board) #rows\n",
    "    m = len(game_board[0]) #cols\n",
    "    if n < 2 or m < 2:\n",
    "        print('Error: Board must be at least 2 x 2')\n",
    "    else:\n",
    "\n",
    "        hor_line = ' ---' * m\n",
    "\n",
    "        for i in range(m):\n",
    "            print(hor_line)\n",
    "            row_str = ''\n",
    "            for j in range(m):\n",
    "                if game_board[i][j] == 0:\n",
    "                    row_str += '|   '\n",
    "                elif game_board[i][j] == 1:\n",
    "                    row_str += '| X '\n",
    "                elif game_board[i][j] == 2:\n",
    "                    row_str += '| O '\n",
    "            print(row_str + '|')\n",
    "        \n",
    "        print(hor_line)\n",
    "\n",
    "\n",
    "\n",
    "    "
   ]
  },
  {
   "cell_type": "code",
   "execution_count": 15,
   "metadata": {},
   "outputs": [
    {
     "name": "stdout",
     "output_type": "stream",
     "text": [
      " --- --- ---\n",
      "|   | X | O |\n",
      " --- --- ---\n",
      "| X |   |   |\n",
      " --- --- ---\n",
      "| O | O | X |\n",
      " --- --- ---\n"
     ]
    }
   ],
   "source": [
    "# Test your solution here\n",
    "gameBoard = [[0,1,2],[1,0,0],[2,2,1]]\n",
    "draw_board1(gameBoard)"
   ]
  },
  {
   "cell_type": "markdown",
   "metadata": {},
   "source": [
    "*Exercise 4:* Write a function that takes a `n` by `n` matrix representing a tic-tac-toe game, and returns -1, 0, 1, or 2 indicating the game is incomplete, the game is a draw, player 1 has won, or player 2 has one, respectively. Here are some example inputs you can use to test your code:"
   ]
  },
  {
   "cell_type": "code",
   "execution_count": 17,
   "metadata": {},
   "outputs": [],
   "source": [
    "# Write you solution here\n",
    "def game_state(board):\n",
    "    n = len(board)\n",
    "    \n",
    "\n",
    "    for i in range (n):\n",
    "        if all(board[i][j] == board [i][0] and board [i][0] != 0 for j in range(n)): #checking all rows\n",
    "            return board[i][j]\n",
    "        if all(board[j][i] == board[0][i] and board[0][i] != 0 for j in range(n)): #checking all columns\n",
    "            return board[0][i]\n",
    "    #checking diagonals\n",
    "    if all(board[i][i] == board[0][0] and board[0][0] != 0 for i in range(n)): #right diagonal\n",
    "        return board[0][0] \n",
    "    #confused for left diagonal\n",
    "\n",
    "    #check for empty\n",
    "    if any(0 in row for row in board):\n",
    "        return -1\n",
    "    else:\n",
    "        return 0 #this is a draw\n",
    "        "
   ]
  },
  {
   "cell_type": "code",
   "execution_count": 18,
   "metadata": {},
   "outputs": [
    {
     "data": {
      "text/plain": [
       "-1"
      ]
     },
     "execution_count": 18,
     "metadata": {},
     "output_type": "execute_result"
    }
   ],
   "source": [
    "# Test your solution here\n",
    "game_state(no_winner)"
   ]
  },
  {
   "cell_type": "code",
   "execution_count": 19,
   "metadata": {},
   "outputs": [],
   "source": [
    "winner_is_2 = [[2, 2, 0],\n",
    "\t[2, 1, 0],\n",
    "\t[2, 1, 1]]\n",
    "\n",
    "winner_is_1 = [[1, 2, 0],\n",
    "\t[2, 1, 0],\n",
    "\t[2, 1, 1]]\n",
    "\n",
    "winner_is_also_1 = [[0, 1, 0],\n",
    "\t[2, 1, 0],\n",
    "\t[2, 1, 1]]\n",
    "\n",
    "no_winner = [[1, 2, 0],\n",
    "\t[2, 1, 0],\n",
    "\t[2, 1, 2]]\n",
    "\n",
    "also_no_winner = [[1, 2, 0],\n",
    "\t[2, 1, 0],\n",
    "\t[2, 1, 0]]"
   ]
  },
  {
   "cell_type": "markdown",
   "metadata": {},
   "source": [
    "*Exercise 5:* Write a function that takes a game board, player number, and `(x,y)` coordinates and places \"X\" or \"O\" in the correct location of the game board. Make sure that you only allow filling previously empty locations. Return `True` or `False` to indicate successful placement of \"X\" or \"O\"."
   ]
  },
  {
   "cell_type": "code",
   "execution_count": 20,
   "metadata": {},
   "outputs": [],
   "source": [
    "# Write you solution here\n",
    "def place_move(board, player_num, x, y):\n",
    "    #is move in bound\n",
    "    if x < 0 or x >= len(board) or y < 0 or y >= len(board):\n",
    "        print(f'invalid coordinates: x = {x}, y = {y}')\n",
    "        return False\n",
    "    #is location empty\n",
    "    if board[x][y] != 0:\n",
    "        print(f'cell already occupied: board[{x}][{y}] = {board[x][y]}')\n",
    "        return False\n",
    "    #place move\n",
    "    if player_num == 1: #player X\n",
    "        board[x][y] = 1 \n",
    "    elif (player_num == 2): #player O\n",
    "        board[x][y] = 2\n",
    "    else:\n",
    "        return False\n",
    "    print(board)\n",
    "    return True\n",
    "    "
   ]
  },
  {
   "cell_type": "code",
   "execution_count": 21,
   "metadata": {},
   "outputs": [
    {
     "name": "stdout",
     "output_type": "stream",
     "text": [
      "[[0, 2, 0], [0, 0, 0], [0, 0, 0]]\n"
     ]
    },
    {
     "data": {
      "text/plain": [
       "True"
      ]
     },
     "execution_count": 21,
     "metadata": {},
     "output_type": "execute_result"
    }
   ],
   "source": [
    "# Test your solution her\n",
    "place_move(board,2,0,1)"
   ]
  },
  {
   "cell_type": "markdown",
   "metadata": {},
   "source": [
    "*Exercise 6:* Modify Exercise 4 to show column and row labels so that players can specify location using \"A2\" or \"C1\"."
   ]
  },
  {
   "cell_type": "code",
   "execution_count": 22,
   "metadata": {},
   "outputs": [
    {
     "data": {
      "text/plain": [
       "{1: 'X', 2: 'O', 0: ' '}"
      ]
     },
     "execution_count": 22,
     "metadata": {},
     "output_type": "execute_result"
    }
   ],
   "source": [
    "player1 = 'X'\n",
    "player2 = 'O'\n",
    "empty_space = ' '\n",
    "space_character = {X : player1,\n",
    "                   O: player2,\n",
    "                   empty: empty_space}\n",
    "space_character"
   ]
  },
  {
   "cell_type": "code",
   "execution_count": 23,
   "metadata": {},
   "outputs": [],
   "source": [
    "# Write you solution here\n",
    "def game_state_labeled(board):\n",
    "    n = len(board)\n",
    "    column_labels = list(map(str, range(1, n + 1)))\n",
    "    row_labels = list('ABCDEFGHIJKLMNOPQRSTUVWXYZ')[:n]\n",
    "\n",
    "    print(\" \",end=\" \")\n",
    "    for j in range(n):\n",
    "        print(column_labels[j],end=\" \")\n",
    "    print()\n",
    "    \n",
    "    for i in range(n):\n",
    "        print(row_labels[i],end=\" \")\n",
    "        for j in range(n):\n",
    "            print(space_character[board[i][j]],end=\" \")\n",
    "        print()\n",
    "   \n",
    "    \n",
    "    # Game state checking logic \n",
    "    for i in range(n):\n",
    "        if all(board[i][j] == board[i][0] and board[i][0] != 0 for j in range(n)):  # checking all rows\n",
    "            return board[i][0]\n",
    "        if all(board[j][i] == board[0][i] and board[0][i] != 0 for j in range(n)):  # checking all columns\n",
    "            return board[0][i]\n",
    "    \n",
    "    # checking diagonals\n",
    "    if all(board[i][i] == board[0][0] and board[0][0] != 0 for i in range(n)):  # right diagonal\n",
    "        return board[0][0] \n",
    "    if all(board[i][n-1-i] == board[0][n-1] and board[0][n-1] != 0 for i in range(n)):  # left diagonal\n",
    "        return board[0][n-1]\n",
    "    \n",
    "    # check for empty\n",
    "    if any(0 in row for row in board):\n",
    "        return -1\n",
    "    else:\n",
    "        return 0  # this is a draw\n",
    "\n",
    "\n",
    "\n"
   ]
  },
  {
   "cell_type": "code",
   "execution_count": 24,
   "metadata": {},
   "outputs": [
    {
     "name": "stdout",
     "output_type": "stream",
     "text": [
      "  1 2 3 \n",
      "A   O   \n",
      "B       \n",
      "C       \n"
     ]
    },
    {
     "data": {
      "text/plain": [
       "-1"
      ]
     },
     "execution_count": 24,
     "metadata": {},
     "output_type": "execute_result"
    }
   ],
   "source": [
    "game_state_labeled(board)"
   ]
  },
  {
   "cell_type": "markdown",
   "metadata": {},
   "source": [
    "*Exercise 7:* Write a function that takes a board, player number, and location specified as in exercise 6 and then calls exercise 5 to correctly modify the board.  "
   ]
  },
  {
   "cell_type": "code",
   "execution_count": 25,
   "metadata": {},
   "outputs": [],
   "source": [
    "# Write you solution here\n",
    "def take_move(board, player_num, location):\n",
    "    if len(location) != 2 or not location[0].isalpha() or not location[1].isdigit():\n",
    "        print('invalid input.')\n",
    "        return False\n",
    "    row_x = ord(location[0].upper()) - ord('A')\n",
    "    col_y = int(location[1]) - 1\n",
    "    return place_move(board,player_num, row_x, col_y)"
   ]
  },
  {
   "cell_type": "code",
   "execution_count": 26,
   "metadata": {},
   "outputs": [
    {
     "name": "stdout",
     "output_type": "stream",
     "text": [
      "[[0, 1, 0], [0, 0, 0], [0, 0, 0]]\n"
     ]
    },
    {
     "data": {
      "text/plain": [
       "True"
      ]
     },
     "execution_count": 26,
     "metadata": {},
     "output_type": "execute_result"
    }
   ],
   "source": [
    "# Test your solution here\n",
    "new_board = create_board(3,empty)\n",
    "take_move(new_board,1,'a2')"
   ]
  },
  {
   "cell_type": "code",
   "execution_count": 27,
   "metadata": {},
   "outputs": [
    {
     "name": "stdout",
     "output_type": "stream",
     "text": [
      "[[0, 1, 0], [0, 0, 0], [1, 0, 0]]\n"
     ]
    },
    {
     "data": {
      "text/plain": [
       "True"
      ]
     },
     "execution_count": 27,
     "metadata": {},
     "output_type": "execute_result"
    }
   ],
   "source": [
    "take_move(new_board,1,'c1')"
   ]
  },
  {
   "cell_type": "code",
   "execution_count": 28,
   "metadata": {},
   "outputs": [
    {
     "data": {
      "text/plain": [
       "[[0, 1, 0], [0, 0, 0], [1, 0, 0]]"
      ]
     },
     "execution_count": 28,
     "metadata": {},
     "output_type": "execute_result"
    }
   ],
   "source": [
    "new_board"
   ]
  },
  {
   "cell_type": "markdown",
   "metadata": {},
   "source": [
    "*Exercise 8:* Write a function is called with a board and player number, takes input from the player using python's `input`, and modifies the board using your function from exercise 7. Note that you should keep asking for input until you have gotten a valid input that results in a valid move."
   ]
  },
  {
   "cell_type": "code",
   "execution_count": 29,
   "metadata": {},
   "outputs": [],
   "source": [
    "# Write you solution here\n",
    "def player_move(board, player_num):\n",
    "    while True:\n",
    "        move = input(f'Player {player_num}, Enter your move (ex: A1): ').strip().upper()\n",
    "\n",
    "        if take_move(board,player_num,move):\n",
    "            print(f'move {move} accepted')\n",
    "            break\n",
    "        else:\n",
    "            print('invalid move, try again')"
   ]
  },
  {
   "cell_type": "code",
   "execution_count": 31,
   "metadata": {},
   "outputs": [
    {
     "name": "stdin",
     "output_type": "stream",
     "text": [
      "Player 1, Enter your move (ex: A1):  a1\n"
     ]
    },
    {
     "name": "stdout",
     "output_type": "stream",
     "text": [
      "[[1, 0, 0], [0, 0, 0], [0, 0, 0]]\n",
      "move A1 accepted\n"
     ]
    }
   ],
   "source": [
    "# Test your solution here\n",
    "new_board1 = create_board(3,empty)\n",
    "player_move(new_board1,1)"
   ]
  },
  {
   "cell_type": "code",
   "execution_count": 32,
   "metadata": {},
   "outputs": [
    {
     "name": "stdin",
     "output_type": "stream",
     "text": [
      "Player 1, Enter your move (ex: A1):  a2\n"
     ]
    },
    {
     "name": "stdout",
     "output_type": "stream",
     "text": [
      "[[1, 1, 0], [0, 0, 0], [0, 0, 0]]\n",
      "move A2 accepted\n"
     ]
    }
   ],
   "source": [
    "player_move(new_board1,1)"
   ]
  },
  {
   "cell_type": "markdown",
   "metadata": {},
   "source": [
    "*Exercise 9:* Use all of the previous exercises to implement a full tic-tac-toe game, where an appropriate board is drawn, 2 players are repeatedly asked for a location coordinates of where they wish to place a mark, and the game status is checked until a player wins or a draw occurs."
   ]
  },
  {
   "cell_type": "markdown",
   "metadata": {},
   "source": [
    "# "
   ]
  },
  {
   "cell_type": "code",
   "execution_count": 33,
   "metadata": {},
   "outputs": [],
   "source": [
    "# Write you solution here\n",
    "\n",
    "def play_tic_tac_toe(board):\n",
    "    current_player = 1\n",
    "    \n",
    "    while True:\n",
    "        # Display the board\n",
    "        game_state_labeled(board)\n",
    "        \n",
    "        # Get player's move\n",
    "        player_move(board, current_player)\n",
    "        \n",
    "        # Check game state\n",
    "        state = game_state_labeled(board)\n",
    "        \n",
    "        if state == 1:\n",
    "            game_state_labeled(board)\n",
    "            print(\"Player X wins!\")\n",
    "            break\n",
    "        elif state == 2:\n",
    "            game_state_labeled(board)\n",
    "            print(\"Player O wins!\")\n",
    "            break\n",
    "        elif state == 0:\n",
    "            game_state_labeled(board)\n",
    "            print(\"It's a draw!\")\n",
    "            break\n",
    "        \n",
    "        # Switch players\n",
    "        current_player = 3 - current_player  # 1 becomes 2, 2 becomes 1\n",
    "\n"
   ]
  },
  {
   "cell_type": "code",
   "execution_count": 34,
   "metadata": {},
   "outputs": [
    {
     "name": "stdout",
     "output_type": "stream",
     "text": [
      "  1 2 3 \n",
      "A       \n",
      "B       \n",
      "C       \n"
     ]
    },
    {
     "name": "stdin",
     "output_type": "stream",
     "text": [
      "Player 1, Enter your move (ex: A1):  a1\n"
     ]
    },
    {
     "name": "stdout",
     "output_type": "stream",
     "text": [
      "[[1, 0, 0], [0, 0, 0], [0, 0, 0]]\n",
      "move A1 accepted\n",
      "  1 2 3 \n",
      "A X     \n",
      "B       \n",
      "C       \n",
      "  1 2 3 \n",
      "A X     \n",
      "B       \n",
      "C       \n"
     ]
    },
    {
     "name": "stdin",
     "output_type": "stream",
     "text": [
      "Player 2, Enter your move (ex: A1):  a2\n"
     ]
    },
    {
     "name": "stdout",
     "output_type": "stream",
     "text": [
      "[[1, 2, 0], [0, 0, 0], [0, 0, 0]]\n",
      "move A2 accepted\n",
      "  1 2 3 \n",
      "A X O   \n",
      "B       \n",
      "C       \n",
      "  1 2 3 \n",
      "A X O   \n",
      "B       \n",
      "C       \n"
     ]
    },
    {
     "name": "stdin",
     "output_type": "stream",
     "text": [
      "Player 1, Enter your move (ex: A1):  b2\n"
     ]
    },
    {
     "name": "stdout",
     "output_type": "stream",
     "text": [
      "[[1, 2, 0], [0, 1, 0], [0, 0, 0]]\n",
      "move B2 accepted\n",
      "  1 2 3 \n",
      "A X O   \n",
      "B   X   \n",
      "C       \n",
      "  1 2 3 \n",
      "A X O   \n",
      "B   X   \n",
      "C       \n"
     ]
    },
    {
     "name": "stdin",
     "output_type": "stream",
     "text": [
      "Player 2, Enter your move (ex: A1):  c2\n"
     ]
    },
    {
     "name": "stdout",
     "output_type": "stream",
     "text": [
      "[[1, 2, 0], [0, 1, 0], [0, 2, 0]]\n",
      "move C2 accepted\n",
      "  1 2 3 \n",
      "A X O   \n",
      "B   X   \n",
      "C   O   \n",
      "  1 2 3 \n",
      "A X O   \n",
      "B   X   \n",
      "C   O   \n"
     ]
    },
    {
     "name": "stdin",
     "output_type": "stream",
     "text": [
      "Player 1, Enter your move (ex: A1):  c3\n"
     ]
    },
    {
     "name": "stdout",
     "output_type": "stream",
     "text": [
      "[[1, 2, 0], [0, 1, 0], [0, 2, 1]]\n",
      "move C3 accepted\n",
      "  1 2 3 \n",
      "A X O   \n",
      "B   X   \n",
      "C   O X \n",
      "  1 2 3 \n",
      "A X O   \n",
      "B   X   \n",
      "C   O X \n",
      "Player X wins!\n"
     ]
    }
   ],
   "source": [
    "# Test your solution here\n",
    "game_board = create_board(3,empty)\n",
    "play_tic_tac_toe(game_board)\n"
   ]
  },
  {
   "cell_type": "markdown",
   "metadata": {},
   "source": [
    "*Exercise 10:* Test that your game works for 5x5 Tic Tac Toe.  "
   ]
  },
  {
   "cell_type": "code",
   "execution_count": 35,
   "metadata": {},
   "outputs": [
    {
     "name": "stdout",
     "output_type": "stream",
     "text": [
      "  1 2 3 4 5 \n",
      "A           \n",
      "B           \n",
      "C           \n",
      "D           \n",
      "E           \n"
     ]
    },
    {
     "name": "stdin",
     "output_type": "stream",
     "text": [
      "Player 1, Enter your move (ex: A1):  a1\n"
     ]
    },
    {
     "name": "stdout",
     "output_type": "stream",
     "text": [
      "[[1, 0, 0, 0, 0], [0, 0, 0, 0, 0], [0, 0, 0, 0, 0], [0, 0, 0, 0, 0], [0, 0, 0, 0, 0]]\n",
      "move A1 accepted\n",
      "  1 2 3 4 5 \n",
      "A X         \n",
      "B           \n",
      "C           \n",
      "D           \n",
      "E           \n",
      "  1 2 3 4 5 \n",
      "A X         \n",
      "B           \n",
      "C           \n",
      "D           \n",
      "E           \n"
     ]
    },
    {
     "name": "stdin",
     "output_type": "stream",
     "text": [
      "Player 2, Enter your move (ex: A1):  c1\n"
     ]
    },
    {
     "name": "stdout",
     "output_type": "stream",
     "text": [
      "[[1, 0, 0, 0, 0], [0, 0, 0, 0, 0], [2, 0, 0, 0, 0], [0, 0, 0, 0, 0], [0, 0, 0, 0, 0]]\n",
      "move C1 accepted\n",
      "  1 2 3 4 5 \n",
      "A X         \n",
      "B           \n",
      "C O         \n",
      "D           \n",
      "E           \n",
      "  1 2 3 4 5 \n",
      "A X         \n",
      "B           \n",
      "C O         \n",
      "D           \n",
      "E           \n"
     ]
    },
    {
     "name": "stdin",
     "output_type": "stream",
     "text": [
      "Player 1, Enter your move (ex: A1):  a2\n"
     ]
    },
    {
     "name": "stdout",
     "output_type": "stream",
     "text": [
      "[[1, 1, 0, 0, 0], [0, 0, 0, 0, 0], [2, 0, 0, 0, 0], [0, 0, 0, 0, 0], [0, 0, 0, 0, 0]]\n",
      "move A2 accepted\n",
      "  1 2 3 4 5 \n",
      "A X X       \n",
      "B           \n",
      "C O         \n",
      "D           \n",
      "E           \n",
      "  1 2 3 4 5 \n",
      "A X X       \n",
      "B           \n",
      "C O         \n",
      "D           \n",
      "E           \n"
     ]
    },
    {
     "name": "stdin",
     "output_type": "stream",
     "text": [
      "Player 2, Enter your move (ex: A1):  c3\n"
     ]
    },
    {
     "name": "stdout",
     "output_type": "stream",
     "text": [
      "[[1, 1, 0, 0, 0], [0, 0, 0, 0, 0], [2, 0, 2, 0, 0], [0, 0, 0, 0, 0], [0, 0, 0, 0, 0]]\n",
      "move C3 accepted\n",
      "  1 2 3 4 5 \n",
      "A X X       \n",
      "B           \n",
      "C O   O     \n",
      "D           \n",
      "E           \n",
      "  1 2 3 4 5 \n",
      "A X X       \n",
      "B           \n",
      "C O   O     \n",
      "D           \n",
      "E           \n"
     ]
    },
    {
     "name": "stdin",
     "output_type": "stream",
     "text": [
      "Player 1, Enter your move (ex: A1):  a3\n"
     ]
    },
    {
     "name": "stdout",
     "output_type": "stream",
     "text": [
      "[[1, 1, 1, 0, 0], [0, 0, 0, 0, 0], [2, 0, 2, 0, 0], [0, 0, 0, 0, 0], [0, 0, 0, 0, 0]]\n",
      "move A3 accepted\n",
      "  1 2 3 4 5 \n",
      "A X X X     \n",
      "B           \n",
      "C O   O     \n",
      "D           \n",
      "E           \n",
      "  1 2 3 4 5 \n",
      "A X X X     \n",
      "B           \n",
      "C O   O     \n",
      "D           \n",
      "E           \n"
     ]
    },
    {
     "name": "stdin",
     "output_type": "stream",
     "text": [
      "Player 2, Enter your move (ex: A1):  c4\n"
     ]
    },
    {
     "name": "stdout",
     "output_type": "stream",
     "text": [
      "[[1, 1, 1, 0, 0], [0, 0, 0, 0, 0], [2, 0, 2, 2, 0], [0, 0, 0, 0, 0], [0, 0, 0, 0, 0]]\n",
      "move C4 accepted\n",
      "  1 2 3 4 5 \n",
      "A X X X     \n",
      "B           \n",
      "C O   O O   \n",
      "D           \n",
      "E           \n",
      "  1 2 3 4 5 \n",
      "A X X X     \n",
      "B           \n",
      "C O   O O   \n",
      "D           \n",
      "E           \n"
     ]
    },
    {
     "name": "stdin",
     "output_type": "stream",
     "text": [
      "Player 1, Enter your move (ex: A1):  a4\n"
     ]
    },
    {
     "name": "stdout",
     "output_type": "stream",
     "text": [
      "[[1, 1, 1, 1, 0], [0, 0, 0, 0, 0], [2, 0, 2, 2, 0], [0, 0, 0, 0, 0], [0, 0, 0, 0, 0]]\n",
      "move A4 accepted\n",
      "  1 2 3 4 5 \n",
      "A X X X X   \n",
      "B           \n",
      "C O   O O   \n",
      "D           \n",
      "E           \n",
      "  1 2 3 4 5 \n",
      "A X X X X   \n",
      "B           \n",
      "C O   O O   \n",
      "D           \n",
      "E           \n"
     ]
    },
    {
     "name": "stdin",
     "output_type": "stream",
     "text": [
      "Player 2, Enter your move (ex: A1):  c5\n"
     ]
    },
    {
     "name": "stdout",
     "output_type": "stream",
     "text": [
      "[[1, 1, 1, 1, 0], [0, 0, 0, 0, 0], [2, 0, 2, 2, 2], [0, 0, 0, 0, 0], [0, 0, 0, 0, 0]]\n",
      "move C5 accepted\n",
      "  1 2 3 4 5 \n",
      "A X X X X   \n",
      "B           \n",
      "C O   O O O \n",
      "D           \n",
      "E           \n",
      "  1 2 3 4 5 \n",
      "A X X X X   \n",
      "B           \n",
      "C O   O O O \n",
      "D           \n",
      "E           \n"
     ]
    },
    {
     "name": "stdin",
     "output_type": "stream",
     "text": [
      "Player 1, Enter your move (ex: A1):  a5\n"
     ]
    },
    {
     "name": "stdout",
     "output_type": "stream",
     "text": [
      "[[1, 1, 1, 1, 1], [0, 0, 0, 0, 0], [2, 0, 2, 2, 2], [0, 0, 0, 0, 0], [0, 0, 0, 0, 0]]\n",
      "move A5 accepted\n",
      "  1 2 3 4 5 \n",
      "A X X X X X \n",
      "B           \n",
      "C O   O O O \n",
      "D           \n",
      "E           \n",
      "  1 2 3 4 5 \n",
      "A X X X X X \n",
      "B           \n",
      "C O   O O O \n",
      "D           \n",
      "E           \n",
      "Player X wins!\n"
     ]
    }
   ],
   "source": [
    "# Test your solution here\n",
    "v5game_board = create_board(5,empty)\n",
    "\n",
    "play_tic_tac_toe(v5game_board)"
   ]
  },
  {
   "cell_type": "markdown",
   "metadata": {},
   "source": [
    "*Exercise 11:* (Advanced / Challenge) Develop a version of the game where one player is the computer. Note that you don't need to do an extensive seach for the best move. You can have the computer simply protect against loosing and otherwise try to win with straight or diagonal patterns."
   ]
  },
  {
   "cell_type": "code",
   "execution_count": null,
   "metadata": {},
   "outputs": [],
   "source": [
    "# Write you solution here"
   ]
  },
  {
   "cell_type": "code",
   "execution_count": 9,
   "metadata": {},
   "outputs": [],
   "source": [
    "# Test your solution here"
   ]
  },
  {
   "cell_type": "code",
   "execution_count": null,
   "metadata": {},
   "outputs": [],
   "source": []
  }
 ],
 "metadata": {
  "kernelspec": {
   "display_name": "Python 3 (ipykernel)",
   "language": "python",
   "name": "python3"
  },
  "language_info": {
   "codemirror_mode": {
    "name": "ipython",
    "version": 3
   },
   "file_extension": ".py",
   "mimetype": "text/x-python",
   "name": "python",
   "nbconvert_exporter": "python",
   "pygments_lexer": "ipython3",
   "version": "3.11.7"
  }
 },
 "nbformat": 4,
 "nbformat_minor": 4
}
